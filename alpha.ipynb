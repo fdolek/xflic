{
 "cells": [
  {
   "cell_type": "code",
   "execution_count": null,
   "metadata": {},
   "outputs": [],
   "source": [
    "%matplotlib inline"
   ]
  },
  {
   "cell_type": "markdown",
   "metadata": {},
   "source": [
    "\n",
    "# A simple plot with a custom dashed line\n",
    "\n",
    "\n",
    "A Line object's ``set_dashes`` method allows you to specify dashes with\n",
    "a series of on/off lengths (in points).\n",
    "\n"
   ]
  },
  {
   "cell_type": "code",
   "execution_count": 1,
   "metadata": {},
   "outputs": [],
   "source": [
    "import pandas as pd\n",
    "import matplotlib.pyplot as plt\n",
    "import os\n",
    "import glob\n",
    "from statistics import mean\n",
    "import math\n",
    "from math import log\n",
    "import numpy as np\n",
    "import matplotlib.pyplot as plt\n",
    "\n",
    "\n",
    "from pylab import rcParams\n",
    "rcParams['figure.figsize'] = 10, 10"
   ]
  },
  {
   "cell_type": "code",
   "execution_count": 2,
   "metadata": {},
   "outputs": [
    {
     "name": "stdout",
     "output_type": "stream",
     "text": [
      "[43690 43690  1012 ...  1523  1518  1522]\n"
     ]
    }
   ],
   "source": [
    "import pandas as pd\n",
    "import os\n",
    "import glob\n",
    "import numpy as geek \n",
    "filelist = []\n",
    "filelist = ['~/work/flicanalyzer/waveform/xar/Cosmic_Vertical_VBias47V_1from0ppm_alpha_Ch0-2019-12-19_12-29-31.dat']\n",
    "            #'~/work/flicanalyzer/waveform/2019-12-14_18-05-55/Cosmic_Vertical_VBias47V_Ch1-2019-12-14_18-05-55.dat',\n",
    "            #'~/work/flicanalyzer/waveform/2019-12-14_18-05-55/Cosmic_Vertical_VBias47V_Ch2-2019-12-14_18-05-55.dat',\n",
    "            #'~/work/flicanalyzer/waveform/2019-12-14_18-05-55/Cosmic_Vertical_VBias47V_Ch3-2019-12-14_18-05-55.dat',\n",
    "            #'~/work/flicanalyzer/waveform/2019-12-14_18-05-55/Cosmic_Vertical_VBias47V_Ch8-2019-12-14_18-05-55.dat',\n",
    "            #'~/work/flicanalyzer/waveform/2019-12-14_18-05-55/Cosmic_Vertical_VBias47V_Ch9-2019-12-14_18-05-55.dat',\n",
    "            #'~/work/flicanalyzer/waveform/2019-12-14_18-05-55/Cosmic_Vertical_VBias47V_Ch10-2019-12-14_18-05-55.dat',\n",
    "            #'~/work/flicanalyzer/waveform/2019-12-14_18-05-55/Cosmic_Vertical_VBias47V_Ch11-2019-12-14_18-05-55.dat']\n",
    "fil=pd.concat([pd.read_csv(item, names=[item[:-4]]) for item in filelist], axis=1)\n",
    "x = pd.DataFrame(fil).to_numpy()\n",
    "x\n",
    "s1=np.transpose(x)\n",
    "s = s1.ravel()\n",
    "\n",
    "#x=geek.nan_to_num(x1)\n",
    "#aver=np.average(x)\n",
    "#print(aver)\n",
    "t=fil.index.to_numpy() #this is not necessary\n",
    "print(s)\n"
   ]
  },
  {
   "cell_type": "code",
   "execution_count": 3,
   "metadata": {},
   "outputs": [
    {
     "data": {
      "image/png": "[encoded data removed]",
      "text/plain": [
       "<Figure size 720x720 with 1 Axes>"
      ]
     },
     "metadata": {
      "needs_background": "light"
     },
     "output_type": "display_data"
    }
   ],
   "source": [
    "plt.plot(t,s)\n",
    "#plt.axis([100, 10000, 0, 10000])\n",
    "plt.xlim(0, 3)\n",
    "#plt.yscale('log')\n",
    "plt.xlim(2017, 2025)\n",
    "\n",
    "plt.show()"
   ]
  },
  {
   "cell_type": "code",
   "execution_count": null,
   "metadata": {},
   "outputs": [],
   "source": []
  }
 ],
 "metadata": {
  "kernelspec": {
   "display_name": "Python 3",
   "language": "python",
   "name": "python3"
  },
  "language_info": {
   "codemirror_mode": {
    "name": "ipython",
    "version": 3
   },
   "file_extension": ".py",
   "mimetype": "text/x-python",
   "name": "python",
   "nbconvert_exporter": "python",
   "pygments_lexer": "ipython3",
   "version": "3.7.3"
  }
 },
 "nbformat": 4,
 "nbformat_minor": 1
}
