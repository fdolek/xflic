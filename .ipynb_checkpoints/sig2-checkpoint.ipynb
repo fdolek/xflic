{
 "cells": [
  {
   "cell_type": "code",
   "execution_count": 1,
   "metadata": {},
   "outputs": [],
   "source": [
    "import pandas as pd\n",
    "import matplotlib.pyplot as plt\n",
    "import os\n",
    "import glob\n",
    "from statistics import mean\n",
    "import math\n",
    "from math import log\n",
    "import numpy as np\n",
    "import matplotlib.pyplot as plt\n",
    "\n",
    "from pylab import rcParams\n",
    "rcParams['figure.figsize'] = 10, 10"
   ]
  },
  {
   "cell_type": "code",
   "execution_count": 6,
   "metadata": {
    "scrolled": true
   },
   "outputs": [
    {
     "data": {
      "text/plain": [
       "array([[43690., 43690., 43690., ..., 43690., 43690., 43690.],\n",
       "       [43690., 43690., 43690., ..., 43690., 43690., 43690.],\n",
       "       [ 1012.,  1012.,  1012., ...,  1012.,  1012.,  1012.],\n",
       "       ...,\n",
       "       [ 1523.,    nan,    nan, ...,    nan,    nan,    nan],\n",
       "       [ 1518.,    nan,    nan, ...,    nan,    nan,    nan],\n",
       "       [ 1522.,    nan,    nan, ...,    nan,    nan,    nan]])"
      ]
     },
     "execution_count": 6,
     "metadata": {},
     "output_type": "execute_result"
    }
   ],
   "source": [
    "import pandas as pd\n",
    "import os\n",
    "import glob\n",
    "import numpy as geek \n",
    "filelist = []\n",
    "filelist = ['~/work/flicanalyzer/waveform/xar/Cosmic_Vertical_VBias47V_1from0ppm_alpha_Ch0-2019-12-19_12-29-31.dat',\n",
    "            '~/work/flicanalyzer/waveform/xar/Cosmic_Vertical_VBias47V_1from0ppm_alpha_Ch1-2019-12-19_12-29-31.dat',\n",
    "            '~/work/flicanalyzer/waveform/xar/Cosmic_Vertical_VBias47V_1from0ppm_alpha_Ch2-2019-12-19_12-29-31.dat',\n",
    "            '~/work/flicanalyzer/waveform/xar/Cosmic_Vertical_VBias47V_1from0ppm_alpha_Ch3-2019-12-19_12-29-31.dat',\n",
    "            '~/work/flicanalyzer/waveform/xar/Cosmic_Vertical_VBias47V_1from0ppm_alpha_Ch8-2019-12-19_12-29-31.dat',\n",
    "            '~/work/flicanalyzer/waveform/xar/Cosmic_Vertical_VBias47V_1from0ppm_alpha_Ch9-2019-12-19_12-29-31.dat',\n",
    "            '~/work/flicanalyzer/waveform/xar/Cosmic_Vertical_VBias47V_1from0ppm_alpha_Ch10-2019-12-19_12-29-31.dat',\n",
    "            '~/work/flicanalyzer/waveform/xar/Cosmic_Vertical_VBias47V_1from0ppm_alpha_Ch11-2019-12-19_12-29-31.dat']\n",
    "fil=pd.concat([pd.read_csv(item, names=[item[:-4]]) for item in filelist], axis=1)\n",
    "x = pd.DataFrame(fil).to_numpy()\n",
    "x\n",
    "#x=geek.nan_to_num(x1)\n",
    "#aver=np.average(x)\n",
    "#print(aver)\n",
    "\n"
   ]
  },
  {
   "cell_type": "code",
   "execution_count": 8,
   "metadata": {
    "scrolled": false
   },
   "outputs": [
    {
     "name": "stdout",
     "output_type": "stream",
     "text": [
      "(array([-3189823, -3189822, -3189821, ...,  3189821,  3189822,  3189823]), array([[nan, nan, nan, ..., nan, nan, nan],\n",
      "       [nan, nan, nan, ..., nan, nan, nan],\n",
      "       [nan, nan, nan, ..., nan, nan, nan],\n",
      "       ...,\n",
      "       [nan, nan, nan, ..., nan, nan, nan],\n",
      "       [nan, nan, nan, ..., nan, nan, nan],\n",
      "       [nan, nan, nan, ..., nan, nan, nan]]))\n"
     ]
    },
    {
     "ename": "ValueError",
     "evalue": "could not broadcast input array from shape (6379647,15) into shape (6379647)",
     "output_type": "error",
     "traceback": [
      "\u001b[0;31m---------------------------------------------------------------------------\u001b[0m",
      "\u001b[0;31mAttributeError\u001b[0m                            Traceback (most recent call last)",
      "\u001b[0;32m~/anaconda3/lib/python3.7/site-packages/numpy/core/fromnumeric.py\u001b[0m in \u001b[0;36msize\u001b[0;34m(a, axis)\u001b[0m\n\u001b[1;32m   3115\u001b[0m         \u001b[0;32mtry\u001b[0m\u001b[0;34m:\u001b[0m\u001b[0;34m\u001b[0m\u001b[0;34m\u001b[0m\u001b[0m\n\u001b[0;32m-> 3116\u001b[0;31m             \u001b[0;32mreturn\u001b[0m \u001b[0ma\u001b[0m\u001b[0;34m.\u001b[0m\u001b[0msize\u001b[0m\u001b[0;34m\u001b[0m\u001b[0;34m\u001b[0m\u001b[0m\n\u001b[0m\u001b[1;32m   3117\u001b[0m         \u001b[0;32mexcept\u001b[0m \u001b[0mAttributeError\u001b[0m\u001b[0;34m:\u001b[0m\u001b[0;34m\u001b[0m\u001b[0;34m\u001b[0m\u001b[0m\n",
      "\u001b[0;31mAttributeError\u001b[0m: 'tuple' object has no attribute 'size'",
      "\nDuring handling of the above exception, another exception occurred:\n",
      "\u001b[0;31mValueError\u001b[0m                                Traceback (most recent call last)",
      "\u001b[0;32m<ipython-input-8-5c8955dcb370>\u001b[0m in \u001b[0;36m<module>\u001b[0;34m\u001b[0m\n\u001b[1;32m     14\u001b[0m \u001b[0;31m#ax0.set_title('bars with legend')\u001b[0m\u001b[0;34m\u001b[0m\u001b[0;34m\u001b[0m\u001b[0;34m\u001b[0m\u001b[0m\n\u001b[1;32m     15\u001b[0m \u001b[0;34m\u001b[0m\u001b[0m\n\u001b[0;32m---> 16\u001b[0;31m \u001b[0max1\u001b[0m\u001b[0;34m.\u001b[0m\u001b[0mhist\u001b[0m\u001b[0;34m(\u001b[0m\u001b[0ma\u001b[0m\u001b[0;34m,\u001b[0m \u001b[0mn_bins\u001b[0m\u001b[0;34m,\u001b[0m \u001b[0mdensity\u001b[0m\u001b[0;34m=\u001b[0m\u001b[0;32mTrue\u001b[0m\u001b[0;34m,\u001b[0m \u001b[0mhisttype\u001b[0m\u001b[0;34m=\u001b[0m\u001b[0;34m'bar'\u001b[0m\u001b[0;34m,\u001b[0m \u001b[0mstacked\u001b[0m\u001b[0;34m=\u001b[0m\u001b[0;32mTrue\u001b[0m \u001b[0;34m,\u001b[0m\u001b[0mlog\u001b[0m\u001b[0;34m=\u001b[0m\u001b[0;32mTrue\u001b[0m\u001b[0;34m)\u001b[0m\u001b[0;34m\u001b[0m\u001b[0;34m\u001b[0m\u001b[0m\n\u001b[0m\u001b[1;32m     17\u001b[0m \u001b[0max1\u001b[0m\u001b[0;34m.\u001b[0m\u001b[0mset_title\u001b[0m\u001b[0;34m(\u001b[0m\u001b[0;34m'stacked bar'\u001b[0m\u001b[0;34m)\u001b[0m\u001b[0;34m\u001b[0m\u001b[0;34m\u001b[0m\u001b[0m\n\u001b[1;32m     18\u001b[0m \u001b[0;34m\u001b[0m\u001b[0m\n",
      "\u001b[0;32m~/anaconda3/lib/python3.7/site-packages/matplotlib/__init__.py\u001b[0m in \u001b[0;36minner\u001b[0;34m(ax, data, *args, **kwargs)\u001b[0m\n\u001b[1;32m   1587\u001b[0m     \u001b[0;32mdef\u001b[0m \u001b[0minner\u001b[0m\u001b[0;34m(\u001b[0m\u001b[0max\u001b[0m\u001b[0;34m,\u001b[0m \u001b[0;34m*\u001b[0m\u001b[0margs\u001b[0m\u001b[0;34m,\u001b[0m \u001b[0mdata\u001b[0m\u001b[0;34m=\u001b[0m\u001b[0;32mNone\u001b[0m\u001b[0;34m,\u001b[0m \u001b[0;34m**\u001b[0m\u001b[0mkwargs\u001b[0m\u001b[0;34m)\u001b[0m\u001b[0;34m:\u001b[0m\u001b[0;34m\u001b[0m\u001b[0;34m\u001b[0m\u001b[0m\n\u001b[1;32m   1588\u001b[0m         \u001b[0;32mif\u001b[0m \u001b[0mdata\u001b[0m \u001b[0;32mis\u001b[0m \u001b[0;32mNone\u001b[0m\u001b[0;34m:\u001b[0m\u001b[0;34m\u001b[0m\u001b[0;34m\u001b[0m\u001b[0m\n\u001b[0;32m-> 1589\u001b[0;31m             \u001b[0;32mreturn\u001b[0m \u001b[0mfunc\u001b[0m\u001b[0;34m(\u001b[0m\u001b[0max\u001b[0m\u001b[0;34m,\u001b[0m \u001b[0;34m*\u001b[0m\u001b[0mmap\u001b[0m\u001b[0;34m(\u001b[0m\u001b[0msanitize_sequence\u001b[0m\u001b[0;34m,\u001b[0m \u001b[0margs\u001b[0m\u001b[0;34m)\u001b[0m\u001b[0;34m,\u001b[0m \u001b[0;34m**\u001b[0m\u001b[0mkwargs\u001b[0m\u001b[0;34m)\u001b[0m\u001b[0;34m\u001b[0m\u001b[0;34m\u001b[0m\u001b[0m\n\u001b[0m\u001b[1;32m   1590\u001b[0m \u001b[0;34m\u001b[0m\u001b[0m\n\u001b[1;32m   1591\u001b[0m         \u001b[0mbound\u001b[0m \u001b[0;34m=\u001b[0m \u001b[0mnew_sig\u001b[0m\u001b[0;34m.\u001b[0m\u001b[0mbind\u001b[0m\u001b[0;34m(\u001b[0m\u001b[0max\u001b[0m\u001b[0;34m,\u001b[0m \u001b[0;34m*\u001b[0m\u001b[0margs\u001b[0m\u001b[0;34m,\u001b[0m \u001b[0;34m**\u001b[0m\u001b[0mkwargs\u001b[0m\u001b[0;34m)\u001b[0m\u001b[0;34m\u001b[0m\u001b[0;34m\u001b[0m\u001b[0m\n",
      "\u001b[0;32m~/anaconda3/lib/python3.7/site-packages/matplotlib/axes/_axes.py\u001b[0m in \u001b[0;36mhist\u001b[0;34m(self, x, bins, range, density, weights, cumulative, bottom, histtype, align, orientation, rwidth, log, color, label, stacked, normed, **kwargs)\u001b[0m\n\u001b[1;32m   6670\u001b[0m \u001b[0;34m\u001b[0m\u001b[0m\n\u001b[1;32m   6671\u001b[0m         \u001b[0;31m# basic input validation\u001b[0m\u001b[0;34m\u001b[0m\u001b[0;34m\u001b[0m\u001b[0;34m\u001b[0m\u001b[0m\n\u001b[0;32m-> 6672\u001b[0;31m         \u001b[0minput_empty\u001b[0m \u001b[0;34m=\u001b[0m \u001b[0mnp\u001b[0m\u001b[0;34m.\u001b[0m\u001b[0msize\u001b[0m\u001b[0;34m(\u001b[0m\u001b[0mx\u001b[0m\u001b[0;34m)\u001b[0m \u001b[0;34m==\u001b[0m \u001b[0;36m0\u001b[0m\u001b[0;34m\u001b[0m\u001b[0;34m\u001b[0m\u001b[0m\n\u001b[0m\u001b[1;32m   6673\u001b[0m         \u001b[0;31m# Massage 'x' for processing.\u001b[0m\u001b[0;34m\u001b[0m\u001b[0;34m\u001b[0m\u001b[0;34m\u001b[0m\u001b[0m\n\u001b[1;32m   6674\u001b[0m         \u001b[0mx\u001b[0m \u001b[0;34m=\u001b[0m \u001b[0mcbook\u001b[0m\u001b[0;34m.\u001b[0m\u001b[0m_reshape_2D\u001b[0m\u001b[0;34m(\u001b[0m\u001b[0mx\u001b[0m\u001b[0;34m,\u001b[0m \u001b[0;34m'x'\u001b[0m\u001b[0;34m)\u001b[0m\u001b[0;34m\u001b[0m\u001b[0;34m\u001b[0m\u001b[0m\n",
      "\u001b[0;32m<__array_function__ internals>\u001b[0m in \u001b[0;36msize\u001b[0;34m(*args, **kwargs)\u001b[0m\n",
      "\u001b[0;32m~/anaconda3/lib/python3.7/site-packages/numpy/core/fromnumeric.py\u001b[0m in \u001b[0;36msize\u001b[0;34m(a, axis)\u001b[0m\n\u001b[1;32m   3116\u001b[0m             \u001b[0;32mreturn\u001b[0m \u001b[0ma\u001b[0m\u001b[0;34m.\u001b[0m\u001b[0msize\u001b[0m\u001b[0;34m\u001b[0m\u001b[0;34m\u001b[0m\u001b[0m\n\u001b[1;32m   3117\u001b[0m         \u001b[0;32mexcept\u001b[0m \u001b[0mAttributeError\u001b[0m\u001b[0;34m:\u001b[0m\u001b[0;34m\u001b[0m\u001b[0;34m\u001b[0m\u001b[0m\n\u001b[0;32m-> 3118\u001b[0;31m             \u001b[0;32mreturn\u001b[0m \u001b[0masarray\u001b[0m\u001b[0;34m(\u001b[0m\u001b[0ma\u001b[0m\u001b[0;34m)\u001b[0m\u001b[0;34m.\u001b[0m\u001b[0msize\u001b[0m\u001b[0;34m\u001b[0m\u001b[0;34m\u001b[0m\u001b[0m\n\u001b[0m\u001b[1;32m   3119\u001b[0m     \u001b[0;32melse\u001b[0m\u001b[0;34m:\u001b[0m\u001b[0;34m\u001b[0m\u001b[0;34m\u001b[0m\u001b[0m\n\u001b[1;32m   3120\u001b[0m         \u001b[0;32mtry\u001b[0m\u001b[0;34m:\u001b[0m\u001b[0;34m\u001b[0m\u001b[0;34m\u001b[0m\u001b[0m\n",
      "\u001b[0;32m~/anaconda3/lib/python3.7/site-packages/numpy/core/_asarray.py\u001b[0m in \u001b[0;36masarray\u001b[0;34m(a, dtype, order)\u001b[0m\n\u001b[1;32m     83\u001b[0m \u001b[0;34m\u001b[0m\u001b[0m\n\u001b[1;32m     84\u001b[0m     \"\"\"\n\u001b[0;32m---> 85\u001b[0;31m     \u001b[0;32mreturn\u001b[0m \u001b[0marray\u001b[0m\u001b[0;34m(\u001b[0m\u001b[0ma\u001b[0m\u001b[0;34m,\u001b[0m \u001b[0mdtype\u001b[0m\u001b[0;34m,\u001b[0m \u001b[0mcopy\u001b[0m\u001b[0;34m=\u001b[0m\u001b[0;32mFalse\u001b[0m\u001b[0;34m,\u001b[0m \u001b[0morder\u001b[0m\u001b[0;34m=\u001b[0m\u001b[0morder\u001b[0m\u001b[0;34m)\u001b[0m\u001b[0;34m\u001b[0m\u001b[0;34m\u001b[0m\u001b[0m\n\u001b[0m\u001b[1;32m     86\u001b[0m \u001b[0;34m\u001b[0m\u001b[0m\n\u001b[1;32m     87\u001b[0m \u001b[0;34m\u001b[0m\u001b[0m\n",
      "\u001b[0;31mValueError\u001b[0m: could not broadcast input array from shape (6379647,15) into shape (6379647)"
     ]
    },
    {
     "data": {
      "image/png": "[encoded data removed]",
      "text/plain": [
       "<Figure size 720x720 with 2 Axes>"
      ]
     },
     "metadata": {
      "needs_background": "light"
     },
     "output_type": "display_data"
    }
   ],
   "source": [
    "\n",
    "#from scipy import signal\n",
    "#a=signal.detrend(x).max() < 0.0001\n",
    "\n",
    "n_bins = 500\n",
    "\n",
    "print(x)\n",
    "fig, axes = plt.subplots(nrows=2, ncols=1)\n",
    "ax1, ax2, = axes.flatten()\n",
    "#from scipy import signal\n",
    "#a=signal.detrend(s).max() < 0.0001\n",
    "\n",
    "#ax0.hist(x, n_bins, density=True, histtype='bar', color=colors, label=colors ,log=True)\n",
    "#ax0.legend(prop={'size': 10})\n",
    "#ax0.set_title('bars with legend')\n",
    "\n",
    "ax1.hist(x, n_bins, density=True, histtype='bar', stacked=True ,log=True)\n",
    "ax1.set_title('stacked bar')\n",
    "\n",
    "ax2.hist(x, n_bins, histtype='step', density=True, stacked=True, fill=False, log=True)\n",
    "ax2.set_title('stack step (unfilled)')\n",
    "\n",
    "# Make a multiple-histogram of data-sets with different length.\n",
    "#x_multi = [np.random.randn(n) for n in [10000, 5000, 2000]]\n",
    "#ax3.hist(x_multi, n_bins, histtype='bar')\n",
    "#ax3.set_title('different sample sizes')\n",
    "\n",
    "fig.tight_layout()\n",
    "plt.show()"
   ]
  },
  {
   "cell_type": "code",
   "execution_count": null,
   "metadata": {
    "scrolled": true
   },
   "outputs": [],
   "source": []
  },
  {
   "cell_type": "code",
   "execution_count": 6,
   "metadata": {},
   "outputs": [
    {
     "ename": "NameError",
     "evalue": "name 'a' is not defined",
     "output_type": "error",
     "traceback": [
      "\u001b[0;31m---------------------------------------------------------------------------\u001b[0m",
      "\u001b[0;31mNameError\u001b[0m                                 Traceback (most recent call last)",
      "\u001b[0;32m<ipython-input-6-42bbe8a7302f>\u001b[0m in \u001b[0;36m<module>\u001b[0;34m\u001b[0m\n\u001b[1;32m      1\u001b[0m \u001b[0mx\u001b[0m\u001b[0;34m=\u001b[0m\u001b[0mdf\u001b[0m\u001b[0;34m\u001b[0m\u001b[0;34m\u001b[0m\u001b[0m\n\u001b[0;32m----> 2\u001b[0;31m \u001b[0mplt\u001b[0m\u001b[0;34m.\u001b[0m\u001b[0mplot\u001b[0m\u001b[0;34m(\u001b[0m\u001b[0mx\u001b[0m\u001b[0;34m,\u001b[0m\u001b[0ma\u001b[0m\u001b[0;34m[\u001b[0m\u001b[0;36m1\u001b[0m\u001b[0;34m:\u001b[0m\u001b[0;36m2\u001b[0m\u001b[0;34m]\u001b[0m\u001b[0;34m.\u001b[0m\u001b[0mT\u001b[0m\u001b[0;34m,\u001b[0m\u001b[0;34m'r--'\u001b[0m\u001b[0;34m,\u001b[0m\u001b[0mlabel\u001b[0m\u001b[0;34m=\u001b[0m\u001b[0;34m\"x vs y1\"\u001b[0m\u001b[0;34m)\u001b[0m \u001b[0;31m#CONTAINS YOUR 3RD ROW\u001b[0m\u001b[0;34m\u001b[0m\u001b[0;34m\u001b[0m\u001b[0m\n\u001b[0m\u001b[1;32m      3\u001b[0m \u001b[0mplt\u001b[0m\u001b[0;34m.\u001b[0m\u001b[0mlegend\u001b[0m\u001b[0;34m(\u001b[0m\u001b[0mloc\u001b[0m\u001b[0;34m=\u001b[0m\u001b[0;34m'best'\u001b[0m\u001b[0;34m)\u001b[0m\u001b[0;34m\u001b[0m\u001b[0;34m\u001b[0m\u001b[0m\n\u001b[1;32m      4\u001b[0m \u001b[0mplt\u001b[0m\u001b[0;34m.\u001b[0m\u001b[0mxlabel\u001b[0m\u001b[0;34m(\u001b[0m\u001b[0;34m\"x\"\u001b[0m\u001b[0;34m)\u001b[0m\u001b[0;34m\u001b[0m\u001b[0;34m\u001b[0m\u001b[0m\n\u001b[1;32m      5\u001b[0m \u001b[0mplt\u001b[0m\u001b[0;34m.\u001b[0m\u001b[0mylabel\u001b[0m\u001b[0;34m(\u001b[0m\u001b[0;34m\"y\"\u001b[0m\u001b[0;34m)\u001b[0m\u001b[0;34m\u001b[0m\u001b[0;34m\u001b[0m\u001b[0m\n",
      "\u001b[0;31mNameError\u001b[0m: name 'a' is not defined"
     ]
    }
   ],
   "source": [
    "x=df\n",
    "plt.plot(x,a[1:2].T,'r--',label=\"x vs y1\") #CONTAINS YOUR 3RD ROW\n",
    "plt.legend(loc='best')\n",
    "plt.xlabel(\"x\")\n",
    "plt.ylabel(\"y\")\n",
    "plt.show()"
   ]
  },
  {
   "cell_type": "code",
   "execution_count": 34,
   "metadata": {},
   "outputs": [
    {
     "ename": "NameError",
     "evalue": "name 'df' is not defined",
     "output_type": "error",
     "traceback": [
      "\u001b[0;31m---------------------------------------------------------------------------\u001b[0m",
      "\u001b[0;31mNameError\u001b[0m                                 Traceback (most recent call last)",
      "\u001b[0;32m<ipython-input-34-992e3a944987>\u001b[0m in \u001b[0;36m<module>\u001b[0;34m\u001b[0m\n\u001b[0;32m----> 1\u001b[0;31m \u001b[0mx\u001b[0m\u001b[0;34m=\u001b[0m\u001b[0mdf\u001b[0m\u001b[0;34m\u001b[0m\u001b[0;34m\u001b[0m\u001b[0m\n\u001b[0m\u001b[1;32m      2\u001b[0m \u001b[0mfig\u001b[0m\u001b[0;34m,\u001b[0m \u001b[0maxes\u001b[0m \u001b[0;34m=\u001b[0m \u001b[0mplt\u001b[0m\u001b[0;34m.\u001b[0m\u001b[0msubplots\u001b[0m\u001b[0;34m(\u001b[0m\u001b[0mnrows\u001b[0m\u001b[0;34m=\u001b[0m\u001b[0;36m2\u001b[0m\u001b[0;34m,\u001b[0m \u001b[0mncols\u001b[0m\u001b[0;34m=\u001b[0m\u001b[0;36m2\u001b[0m\u001b[0;34m)\u001b[0m\u001b[0;34m\u001b[0m\u001b[0;34m\u001b[0m\u001b[0m\n\u001b[1;32m      3\u001b[0m \u001b[0max0\u001b[0m\u001b[0;34m,\u001b[0m \u001b[0max1\u001b[0m \u001b[0;34m=\u001b[0m \u001b[0maxes\u001b[0m\u001b[0;34m.\u001b[0m\u001b[0mflatten\u001b[0m\u001b[0;34m(\u001b[0m\u001b[0;34m)\u001b[0m\u001b[0;34m\u001b[0m\u001b[0;34m\u001b[0m\u001b[0m\n\u001b[1;32m      4\u001b[0m \u001b[0;34m\u001b[0m\u001b[0m\n\u001b[1;32m      5\u001b[0m \u001b[0mcolors\u001b[0m \u001b[0;34m=\u001b[0m \u001b[0;34m[\u001b[0m\u001b[0;34m'red'\u001b[0m\u001b[0;34m,\u001b[0m \u001b[0;34m'tan'\u001b[0m\u001b[0;34m,\u001b[0m\u001b[0;34m]\u001b[0m\u001b[0;34m\u001b[0m\u001b[0;34m\u001b[0m\u001b[0m\n",
      "\u001b[0;31mNameError\u001b[0m: name 'df' is not defined"
     ]
    }
   ],
   "source": [
    "x=df\n",
    "fig, axes = plt.subplots(nrows=2, ncols=2)\n",
    "ax0, ax1 = axes.flatten()\n",
    "\n",
    "colors = ['red', 'tan',]\n",
    "ax0.hist(x, n_bins, density=True, histtype='bar', color=colors, label=colors)\n",
    "ax0.legend(prop={'size': 10})\n",
    "ax0.set_title('bars with legend')\n",
    "\n",
    "ax1.hist(x, n_bins, density=True, histtype='bar', stacked=True)\n",
    "ax1.set_title('stacked bar')\n",
    "\n",
    "ax2.hist(x, n_bins, histtype='step', stacked=True, fill=False)\n",
    "ax2.set_title('stack step (unfilled)')\n",
    "\n",
    "# Make a multiple-histogram of data-sets with different length.\n",
    "x_multi = [np.random.randn(n) for n in [10000, 5000, 2000]]\n",
    "ax3.hist(x_multi, n_bins, histtype='bar')\n",
    "ax3.set_title('different sample sizes')\n",
    "\n",
    "fig.tight_layout()\n",
    "plt.show()"
   ]
  },
  {
   "cell_type": "code",
   "execution_count": null,
   "metadata": {},
   "outputs": [],
   "source": [
    "\n",
    "fig, axes = plt.subplots(nrows=2, ncols=2)\n",
    "ax0, ax1, ax2, ax3 = axes.flatten()\n",
    "\n",
    "colors = ['red', 'tan', 'lime']\n",
    "ax0.hist(x, n_bins, density=True, histtype='bar', color=colors, label=colors)\n",
    "ax0.legend(prop={'size': 10})\n",
    "ax0.set_title('bars with legend')\n",
    "\n",
    "ax1.hist(x, n_bins, density=True, histtype='bar', stacked=True)\n",
    "ax1.set_title('stacked bar')\n",
    "\n",
    "ax2.hist(x, n_bins, histtype='step', stacked=True, fill=False)\n",
    "ax2.set_title('stack step (unfilled)')\n",
    "\n",
    "# Make a multiple-histogram of data-sets with different length.\n",
    "x_multi = [np.random.randn(n) for n in [10000, 5000, 2000]]\n",
    "ax3.hist(x_multi, n_bins, histtype='bar')\n",
    "ax3.set_title('different sample sizes')\n",
    "\n",
    "fig.tight_layout()\n",
    "plt.show()"
   ]
  },
  {
   "cell_type": "code",
   "execution_count": null,
   "metadata": {},
   "outputs": [],
   "source": [
    "\n",
    "import pandas as pd\n",
    "import glob\n",
    "\n",
    "# Taken from http://stackoverflow.com/questions/20906474/import-multiple-csv-files-into-pandas-and-concatenate-into-one-dataframe#comment57648172_21232849\n",
    "\n",
    "# Read multiple files into one dataframe\n",
    "allfiles = glob.glob('/home/furkan/work/flicanalyzer/waveform/xar/*.dat')\n",
    "df = pd.concat((pd.read_csv(f) for f in allfiles))\n",
    "\n",
    "# Read multiple files into one dataframe whilst adding custom columns\n",
    "def my_csv_reader(path):\n",
    "  d = pd.read_csv(path)\n",
    "  d['Filepath'] = path  # an example of a column to be added to each dataframe\n",
    "  return d\n",
    "  \n",
    "allfiles = glob.glob('/home/furkan/work/flicanalyzer/waveform/xar/*.dat')\n",
    "df = pd.concat((my_csv_reader(f) for f in allfiles))\n",
    "print(df)"
   ]
  },
  {
   "cell_type": "code",
   "execution_count": null,
   "metadata": {},
   "outputs": [],
   "source": [
    "s1=df.to_numpy()\n",
    "s2=np.transpose(s1)\n",
    "s = s2.ravel()\n",
    "print(s)\n",
    "t=df.index.to_numpy() +1 #this is not necessaryplt.hist(s, bins = 250, log=True, histtype='step' )\n",
    "\n",
    "\n",
    "plt.hist(s, bins = 250, log=True, histtype='step' , color='C0')\n",
    "plt.ylim((1,10000000))\n",
    "plt.grid()\n",
    "plt.show()"
   ]
  },
  {
   "cell_type": "code",
   "execution_count": null,
   "metadata": {},
   "outputs": [],
   "source": [
    "import os\n",
    "import glob\n",
    "my_dir = \"/home/furkan/work/flicanalyzer/waveform/xar\"\n",
    "filelist = []\n",
    "filesList = []\n",
    "os.chdir( my_dir )\n",
    "\n",
    "# Step 2: Build up list of files:\n",
    "for files in glob.glob(\"*.dat\"):\n",
    "    fileName, fileExtension = os.path.splitext(files)\n",
    "    filelist.append(fileName) #filename without extension\n",
    "    filesList.append(files) #filename w\n",
    "    \n",
    "df = pd.DataFrame()\n",
    "for ijk in filelist:\n",
    "    frame = pd.read_csv(ijk)\n",
    "    df = df.append(frame)\n",
    "df"
   ]
  },
  {
   "cell_type": "code",
   "execution_count": null,
   "metadata": {},
   "outputs": [],
   "source": []
  },
  {
   "cell_type": "code",
   "execution_count": 35,
   "metadata": {
    "scrolled": false
   },
   "outputs": [
    {
     "name": "stdout",
     "output_type": "stream",
     "text": [
      "[43690  1012     0 ...  1523  1518  1522]\n"
     ]
    },
    {
     "data": {
      "image/png": "[encoded data removed]",
      "text/plain": [
       "<Figure size 720x720 with 1 Axes>"
      ]
     },
     "metadata": {
      "needs_background": "light"
     },
     "output_type": "display_data"
    }
   ],
   "source": [
    "\n",
    "df = pd.read_csv(\"~/work/flicanalyzer/waveform/xar/Cosmic_Vertical_VBias47V_1from0ppm_alpha_Ch0-2019-12-19_12-29-31.dat\",\n",
    "                 delim_whitespace=True,)\n",
    "                 #usecols=[1,])\n",
    "                 #names=[\"y\",])\n",
    "#df\n",
    "s1=df.to_numpy()\n",
    "s2=np.transpose(s1)\n",
    "s = s2.ravel()\n",
    "print(s)\n",
    "t=df.index.to_numpy() +1 #this is not necessaryplt.hist(s, bins = 250, log=True, histtype='step' )\n",
    "\n",
    "\n",
    "plt.hist(s, bins = 250, log=True, histtype='step' , color='C0')\n",
    "plt.ylim((1,10000000))\n",
    "plt.grid()\n",
    "plt.show()"
   ]
  },
  {
   "cell_type": "code",
   "execution_count": 36,
   "metadata": {
    "scrolled": false
   },
   "outputs": [
    {
     "data": {
      "image/png": "[encoded data removed]",
      "text/plain": [
       "<Figure size 720x720 with 1 Axes>"
      ]
     },
     "metadata": {
      "needs_background": "light"
     },
     "output_type": "display_data"
    }
   ],
   "source": [
    "from scipy import signal\n",
    "a=signal.detrend(s).max() < 0.0001\n",
    "\n",
    "plt.hist(s-a, bins = 250, log=True, histtype='bar' , color='C1')\n",
    "plt.title('noise remove')\n",
    "plt.ylim((1,10000000))\n",
    "plt.grid()\n",
    "plt.show() #yazmanssan matrisi gorursun\n"
   ]
  },
  {
   "cell_type": "code",
   "execution_count": 37,
   "metadata": {
    "scrolled": false
   },
   "outputs": [
    {
     "data": {
      "image/png": "[encoded data removed]",
      "text/plain": [
       "<Figure size 720x720 with 1 Axes>"
      ]
     },
     "metadata": {
      "needs_background": "light"
     },
     "output_type": "display_data"
    }
   ],
   "source": [
    "signsq = (1 + 1) / 12.0\n",
    "bs = 1 / np.sqrt(2 * 3.14 * signsq) * np.exp(-s ** 2 / 2 / signsq)\n",
    "plt.hist(s-bs, bins = 250, log=True, histtype='bar' , color='C2')\n",
    "plt.title('baseline')\n",
    "plt.ylim((1,10000000))\n",
    "plt.grid()\n",
    "plt.show()"
   ]
  },
  {
   "cell_type": "code",
   "execution_count": 38,
   "metadata": {},
   "outputs": [
    {
     "data": {
      "image/png": "[encoded data removed]",
      "text/plain": [
       "<Figure size 720x720 with 1 Axes>"
      ]
     },
     "metadata": {
      "needs_background": "light"
     },
     "output_type": "display_data"
    },
    {
     "ename": "NameError",
     "evalue": "name 'decwelch' is not defined",
     "output_type": "error",
     "traceback": [
      "\u001b[0;31m---------------------------------------------------------------------------\u001b[0m",
      "\u001b[0;31mNameError\u001b[0m                                 Traceback (most recent call last)",
      "\u001b[0;32m<ipython-input-38-ea7ab7eeebaf>\u001b[0m in \u001b[0;36m<module>\u001b[0;34m\u001b[0m\n\u001b[1;32m      6\u001b[0m \u001b[0mplt\u001b[0m\u001b[0;34m.\u001b[0m\u001b[0mgrid\u001b[0m\u001b[0;34m(\u001b[0m\u001b[0;34m)\u001b[0m\u001b[0;34m\u001b[0m\u001b[0;34m\u001b[0m\u001b[0m\n\u001b[1;32m      7\u001b[0m \u001b[0mplt\u001b[0m\u001b[0;34m.\u001b[0m\u001b[0mshow\u001b[0m\u001b[0;34m(\u001b[0m\u001b[0;34m)\u001b[0m\u001b[0;34m\u001b[0m\u001b[0;34m\u001b[0m\u001b[0m\n\u001b[0;32m----> 8\u001b[0;31m \u001b[0mdecwelch\u001b[0m\u001b[0;34m\u001b[0m\u001b[0;34m\u001b[0m\u001b[0m\n\u001b[0m\u001b[1;32m      9\u001b[0m \u001b[0;34m\u001b[0m\u001b[0m\n\u001b[1;32m     10\u001b[0m \u001b[0;34m\u001b[0m\u001b[0m\n",
      "\u001b[0;31mNameError\u001b[0m: name 'decwelch' is not defined"
     ]
    }
   ],
   "source": [
    "signsq = (1 + 1) / 12.0\n",
    "bs = 1 / np.sqrt(2 * 3.14 * signsq) * np.exp(-s ** 2 / 2 / signsq)\n",
    "plt.hist(s-bs, bins = 250, log=True, histtype='bar' , color='C2')\n",
    "plt.title('baseline')\n",
    "plt.ylim((1,10000000))\n",
    "plt.grid()\n",
    "plt.show()\n",
    "decwelch\n",
    "\n",
    "\n"
   ]
  },
  {
   "cell_type": "code",
   "execution_count": null,
   "metadata": {},
   "outputs": [],
   "source": [
    "Fs = 1 / t  # sampling frequency\n",
    "print(Fs)\n",
    "\n",
    "fig, axes = plt.subplots(nrows=3, ncols=2, figsize=(20, 15))\n",
    "\n",
    "# plot time signal:\n",
    "axes[0, 0].set_title(\"Signal\")\n",
    "axes[0, 0].plot(t, s, color='C0',linestyle='dashed')\n",
    "axes[0, 0].set_xlabel(\"Time\")\n",
    "axes[0, 0].set_ylabel(\"Amplitude\")\n",
    "\n",
    "# plot different spectrum types:\n",
    "axes[1, 0].set_title(\"Magnitude Spectrum\")\n",
    "axes[1, 0].magnitude_spectrum(s, Fs=Fs, color='C1')\n",
    "\n",
    "axes[1, 1].set_title(\"Log. Magnitude Spectrum\")\n",
    "axes[1, 1].magnitude_spectrum(s, Fs=Fs, scale='dB', color='C1')\n",
    "\n",
    "axes[2, 0].set_title(\"Phase Spectrum \")\n",
    "axes[2, 0].phase_spectrum(s, Fs=Fs, color='C2')\n",
    "\n",
    "axes[2, 1].set_title(\"Angle Spectrum\")\n",
    "axes[2, 1].angle_spectrum(s, Fs=Fs, color='C2')\n",
    "\n",
    "axes[0, 1].remove()  # don't display empty ax\n",
    "\n",
    "fig.tight_layout()\n",
    "plt.show()"
   ]
  },
  {
   "cell_type": "code",
   "execution_count": null,
   "metadata": {},
   "outputs": [],
   "source": [
    "\n",
    "Fs = 1 / t  # sampling frequency\n",
    "\n",
    "\n",
    "\n",
    "s_mean = [np.mean(s)]*len(t)\n",
    "\n",
    "# plot time signal:\n",
    "\n",
    "plt.plot(t, s, color='C0' ,linestyle='dotted')\n",
    "plt.show()\n",
    "\n",
    "\n",
    "from scipy.fftpack import fft, ifft\n",
    "y = fft(a)\n",
    "yinv = ifft(y)\n",
    "yinv\n",
    "\n",
    "from scipy.fftpack import fft\n",
    "N = 500\n",
    "T = 1.0/800.0\n",
    "x = np.linspace(0.0, N*T,N)\n",
    "y = np.sin(50.0 * 2.0 * np.pi *x) + 0.5 * np.sin(80.0 * 2.0 * np.pi * x)\n",
    "yf = fft(y)\n",
    "xf = np.linspace(0.0, 1.0/(2.0*T), N//2)\n",
    "import matplotlib.pyplot as plt\n",
    "plt.plot(xf, 2.0/N*np.abs(yf[0:N//2]))\n",
    "plt.grid()\n",
    "plt.show()\n"
   ]
  },
  {
   "cell_type": "code",
   "execution_count": null,
   "metadata": {},
   "outputs": [],
   "source": [
    "n, bins, patches = plt.hist(s, 50, density=True, facecolor='g', alpha=1)\n",
    "\n",
    "plt.xlabel('time')\n",
    "plt.ylabel('amp')\n",
    "plt.title('probabiliyt')\n",
    "plt.yscale('log')\n",
    "\n",
    "plt.grid(True)\n",
    "plt.show()"
   ]
  },
  {
   "cell_type": "code",
   "execution_count": null,
   "metadata": {
    "scrolled": false
   },
   "outputs": [],
   "source": [
    "Fs = 1 / t  # sampling frequency\n",
    "print(Fs)\n",
    "\n",
    "fig, axes = plt.subplots(nrows=3, ncols=2, figsize=(20, 15))\n",
    "\n",
    "# plot time signal:\n",
    "axes[0, 0].set_title(\"Signal\")\n",
    "axes[0, 0].plot(t, s, color='C0',linestyle='dashed')\n",
    "axes[0, 0].set_xlabel(\"Time\")\n",
    "axes[0, 0].set_ylabel(\"Amplitude\")\n",
    "\n",
    "# plot different spectrum types:\n",
    "axes[1, 0].set_title(\"Magnitude Spectrum\")\n",
    "axes[1, 0].magnitude_spectrum(s, Fs=Fs, color='C1')\n",
    "\n",
    "axes[1, 1].set_title(\"Log. Magnitude Spectrum\")\n",
    "axes[1, 1].magnitude_spectrum(s, Fs=Fs, scale='dB', color='C1')\n",
    "\n",
    "axes[2, 0].set_title(\"Phase Spectrum \")\n",
    "axes[2, 0].phase_spectrum(s, Fs=Fs, color='C2')\n",
    "\n",
    "axes[2, 1].set_title(\"Angle Spectrum\")\n",
    "axes[2, 1].angle_spectrum(s, Fs=Fs, color='C2')\n",
    "\n",
    "axes[0, 1].remove()  # don't display empty ax\n",
    "\n",
    "fig.tight_layout()\n",
    "plt.show()"
   ]
  },
  {
   "cell_type": "code",
   "execution_count": null,
   "metadata": {},
   "outputs": [],
   "source": [
    "from scipy.fftpack import fft, ifft\n",
    "y = fft(s)\n",
    "yinv = ifft(y)\n",
    "yinv\n",
    "\n",
    "from scipy.fftpack import fft\n",
    "N = 500\n",
    "T = 1.0/800.0\n",
    "x = np.linspace(0.0, N*T,N)\n",
    "y = np.sin(50.0 * 2.0 * np.pi *x) + 0.5 * np.sin(80.0 * 2.0 * np.pi * x)\n",
    "yf = fft(y)\n",
    "xf = np.linspace(0.0, 1.0/(2.0*T), N//2)\n",
    "import matplotlib.pyplot as plt\n",
    "plt.plot(xf, 2.0/N*np.abs(yf[0:N//2]))\n",
    "plt.grid()\n",
    "plt.show()\n"
   ]
  },
  {
   "cell_type": "code",
   "execution_count": null,
   "metadata": {},
   "outputs": [],
   "source": []
  }
 ],
 "metadata": {
  "kernelspec": {
   "display_name": "Python 3",
   "language": "python",
   "name": "python3"
  },
  "language_info": {
   "codemirror_mode": {
    "name": "ipython",
    "version": 3
   },
   "file_extension": ".py",
   "mimetype": "text/x-python",
   "name": "python",
   "nbconvert_exporter": "python",
   "pygments_lexer": "ipython3",
   "version": "3.7.3"
  }
 },
 "nbformat": 4,
 "nbformat_minor": 2
}
