{
 "cells": [
  {
   "cell_type": "code",
   "execution_count": null,
   "metadata": {},
   "outputs": [],
   "source": [
    "import pandas as pd\n",
    "import matplotlib.pyplot as plt\n",
    "import os\n",
    "import glob\n",
    "from statistics import mean\n",
    "import math\n",
    "from math import log\n",
    "import numpy as np\n",
    "import matplotlib.pyplot as plt\n",
    "\n",
    "from pylab import rcParams\n",
    "rcParams['figure.figsize'] = 10, 5"
   ]
  },
  {
   "cell_type": "code",
   "execution_count": null,
   "metadata": {
    "scrolled": false
   },
   "outputs": [],
   "source": [
    "df = pd.read_csv(\"../waveform/waveforms_ch0_run443.txt\",\n",
    "                 delim_whitespace=True,)\n",
    "                 #usecols=[1,])\n",
    "                 #names=[\"y\",])\n",
    "#df\n",
    "\n",
    "ax = df.plot.hist(bins=200, alpha=0.5, facecolor='g')\n",
    "plt.yscale('log')\n",
    "ax.grid(True)\n",
    "plt.show()"
   ]
  },
  {
   "cell_type": "code",
   "execution_count": null,
   "metadata": {},
   "outputs": [],
   "source": []
  },
  {
   "cell_type": "code",
   "execution_count": null,
   "metadata": {},
   "outputs": [],
   "source": []
  },
  {
   "cell_type": "code",
   "execution_count": null,
   "metadata": {},
   "outputs": [],
   "source": []
  },
  {
   "cell_type": "code",
   "execution_count": null,
   "metadata": {},
   "outputs": [],
   "source": []
  },
  {
   "cell_type": "code",
   "execution_count": null,
   "metadata": {},
   "outputs": [],
   "source": [
    "df = pd.read_csv(\"../waveform/waveforms_ch0_run443.txt\",\n",
    "                 delim_whitespace=True,)\n",
    "                 #usecols=[1,])\n",
    "                 #names=[\"y\",])\n",
    "#df\n",
    "s1=df.to_numpy()\n",
    "s2=np.transpose(s1)\n",
    "s = s2.ravel()\n",
    "print(s)\n",
    "t=df.index.to_numpy() +1 #this is not necessary\n",
    "print(t)\n",
    "print(s.shape)\n",
    "print(t.shape)\n",
    "    "
   ]
  },
  {
   "cell_type": "code",
   "execution_count": null,
   "metadata": {},
   "outputs": [],
   "source": [
    "df = pd.read_csv(\"../waveform/Cosmic.dat\",\n",
    "                 delim_whitespace=True,)\n",
    "                 #usecols=[1,])\n",
    "                 #names=[\"y\",])\n",
    "#df\n",
    "s1=df.to_numpy()\n",
    "s2=np.transpose(s1)\n",
    "s = s2.ravel()\n",
    "print(s)\n",
    "t=df.index.to_numpy() +1 #this is not necessary\n",
    "print(t)\n",
    "print(s.shape)\n",
    "print(t.shape)\n",
    "    \n",
    "#fig, ax = plt.subplots()\n",
    "#df.hist(ax=ax, bins=10000, bottom=0)\n",
    "#ax.set_yscale('log')\n",
    "Fs = 1 / t  # sampling frequency\n",
    "print(Fs)\n",
    "\n",
    "fig, axes = plt.subplots(nrows=3, ncols=2, figsize=(7, 7))\n",
    "\n",
    "# plot time signal:\n",
    "axes[0, 0].set_title(\"Signal\")\n",
    "axes[0, 0].plot(t, s, color='C0')\n",
    "axes[0, 0].set_xlabel(\"Time\")\n",
    "axes[0, 0].set_ylabel(\"Amplitude\")\n",
    "\n",
    "# plot different spectrum types:\n",
    "axes[1, 0].set_title(\"Magnitude Spectrum\")\n",
    "axes[1, 0].magnitude_spectrum(s, Fs=Fs, color='C1')\n",
    "\n",
    "axes[1, 1].set_title(\"Log. Magnitude Spectrum\")\n",
    "axes[1, 1].magnitude_spectrum(s, Fs=Fs, scale='dB', color='C1')\n",
    "\n",
    "axes[2, 0].set_title(\"Phase Spectrum \")\n",
    "axes[2, 0].phase_spectrum(s, Fs=Fs, color='C2')\n",
    "\n",
    "axes[2, 1].set_title(\"Angle Spectrum\")\n",
    "axes[2, 1].angle_spectrum(s, Fs=Fs, color='C2')\n",
    "\n",
    "axes[0, 1].remove()  # don't display empty ax\n",
    "\n",
    "fig.tight_layout()\n",
    "plt.show()\n"
   ]
  },
  {
   "cell_type": "code",
   "execution_count": null,
   "metadata": {
    "scrolled": true
   },
   "outputs": [],
   "source": [
    "df = pd.read_csv(\"../waveform/waveforms_ch0_run454.txt\",\n",
    "                 delim_whitespace=True,)\n",
    "                 #usecols=[1,])\n",
    "                 #names=[\"y\",])\n",
    "fig, ax = plt.subplots()\n",
    "df.hist(ax=ax, bins=10000, bottom=0)\n",
    "ax.set_yscale('log')"
   ]
  },
  {
   "cell_type": "code",
   "execution_count": null,
   "metadata": {
    "scrolled": false
   },
   "outputs": [],
   "source": [
    "s=0\n",
    "for x in range(1, 3):\n",
    "    \n",
    "\n",
    "    df = pd.read_csv(\"../waveform/waveforms_ch0_run454.txt\",\n",
    "                     delim_whitespace=True,\n",
    "                     usecols=[x,])    \n",
    "    \n",
    "    sig=df.to_numpy()\n",
    "    s1=np.transpose(sig)\n",
    "    s2 = s1.ravel()\n",
    "    s += ((s2-903.4)*(-1)) # baseline and (-1)\n",
    "    \n",
    "        \n",
    "    #plt.plot(s)\n",
    "    t1=df.index.to_numpy() #this is not necessary\n",
    "    t = t1.ravel() +1\n",
    "    \n",
    "#t=(len(s))\n",
    "print(s.shape)\n",
    "print(t.shape)\n",
    "    \n",
    "#t  \n",
    "\n",
    "  # sampling interval\n",
    "Fs = 1 / t  # sampling frequency\n",
    "print(Fs)\n",
    "\n",
    "fig, axes = plt.subplots(nrows=3, ncols=2, figsize=(7, 7))\n",
    "\n",
    "# plot time signal:\n",
    "axes[0, 0].set_title(\"Signal\")\n",
    "axes[0, 0].plot(t, s, color='C0')\n",
    "axes[0, 0].set_xlabel(\"Time\")\n",
    "axes[0, 0].set_ylabel(\"Amplitude\")\n",
    "\n",
    "# plot different spectrum types:\n",
    "axes[1, 0].set_title(\"Magnitude Spectrum\")\n",
    "axes[1, 0].magnitude_spectrum(s, Fs=Fs, color='C1')\n",
    "\n",
    "axes[1, 1].set_title(\"Log. Magnitude Spectrum\")\n",
    "axes[1, 1].magnitude_spectrum(s, Fs=Fs, scale='dB', color='C1')\n",
    "\n",
    "axes[2, 0].set_title(\"Phase Spectrum \")\n",
    "axes[2, 0].phase_spectrum(s, Fs=Fs, color='C2')\n",
    "\n",
    "axes[2, 1].set_title(\"Angle Spectrum\")\n",
    "axes[2, 1].angle_spectrum(s, Fs=Fs, color='C2')\n",
    "\n",
    "axes[0, 1].remove()  # don't display empty ax\n",
    "\n",
    "fig.tight_layout()\n",
    "plt.show()\n"
   ]
  },
  {
   "cell_type": "code",
   "execution_count": null,
   "metadata": {},
   "outputs": [],
   "source": [
    "import matplotlib.pyplot as plt\n",
    "import numpy as np\n",
    "\n",
    "\n",
    "np.random.seed(0)\n",
    "\n",
    "dt = 0.01  # sampling interval\n",
    "Fs = 1 / dt  # sampling frequency\n",
    "t = np.arange(0, 10, dt)\n",
    "\n",
    "# generate noise:\n",
    "nse = np.random.randn(len(t))\n",
    "r = np.exp(-t / 0.05)\n",
    "cnse = np.convolve(nse, r) * dt\n",
    "cnse = cnse[:len(t)]\n",
    "\n",
    "s = 0.1 * np.sin(4 * np.pi * t) + cnse  # the signal\n",
    "\n",
    "print(s.shape)\n",
    "fig, axes = plt.subplots(nrows=3, ncols=2, figsize=(7, 7))\n",
    "\n",
    "# plot time signal:\n",
    "axes[0, 0].set_title(\"Signal\")\n",
    "axes[0, 0].plot(t, s, color='C0')\n",
    "axes[0, 0].set_xlabel(\"Time\")\n",
    "axes[0, 0].set_ylabel(\"Amplitude\")\n",
    "\n",
    "# plot different spectrum types:\n",
    "axes[1, 0].set_title(\"Magnitude Spectrum\")\n",
    "axes[1, 0].magnitude_spectrum(s, Fs=Fs, color='C1')\n",
    "\n",
    "axes[1, 1].set_title(\"Log. Magnitude Spectrum\")\n",
    "axes[1, 1].magnitude_spectrum(s, Fs=Fs, scale='dB', color='C1')\n",
    "\n",
    "axes[2, 0].set_title(\"Phase Spectrum \")\n",
    "axes[2, 0].phase_spectrum(s, Fs=Fs, color='C2')\n",
    "\n",
    "axes[2, 1].set_title(\"Angle Spectrum\")\n",
    "axes[2, 1].angle_spectrum(s, Fs=Fs, color='C2')\n",
    "\n",
    "axes[0, 1].remove()  # don't display empty ax\n",
    "\n",
    "fig.tight_layout()\n",
    "plt.show()\n"
   ]
  },
  {
   "cell_type": "code",
   "execution_count": null,
   "metadata": {},
   "outputs": [],
   "source": [
    "np.prod(s.shape)"
   ]
  },
  {
   "cell_type": "code",
   "execution_count": null,
   "metadata": {},
   "outputs": [],
   "source": [
    "#a = s * (s >= .008)\n",
    "#t=df.index.to_numpy() #this is not necessary\n",
    "#t\n",
    "#plt.plot(a)\n",
    "#plt.hist(s, bins=40)\n",
    "import numpy as np\n",
    "from matplotlib.lines import Line2D\n",
    "import matplotlib.pyplot as plt\n",
    "import matplotlib.animation as animation\n",
    "\n",
    "\n"
   ]
  },
  {
   "cell_type": "code",
   "execution_count": null,
   "metadata": {
    "scrolled": true
   },
   "outputs": [],
   "source": [
    "df = pd.read_csv(\"../waveform/Cosmic.dat\",\n",
    "                 delim_whitespace=True,\n",
    "                 usecols=[,])\n",
    "                 #names=[\"y\",])\n",
    "sig=df.to_numpy()\n",
    "plt.plot(sig)\n",
    "#pmt signal is negative "
   ]
  },
  {
   "cell_type": "code",
   "execution_count": null,
   "metadata": {
    "scrolled": true
   },
   "outputs": [],
   "source": [
    "s= -1*(sig-903.4) # baseline and (-1)\n",
    "\n",
    "a = s * (s >= .008)\n",
    "#t=df.index.to_numpy() #this is not necessary\n",
    "#t\n",
    "#plt.plot(a)\n",
    "plt.hist(a, bins=range(min(a), max(a) + 1, 15000))\n"
   ]
  },
  {
   "cell_type": "code",
   "execution_count": null,
   "metadata": {
    "scrolled": false
   },
   "outputs": [],
   "source": [
    "from scipy.fftpack import fft, ifft\n",
    "y = fft(a)\n",
    "yinv = ifft(y)\n",
    "yinv\n",
    "\n",
    "from scipy.fftpack import fft\n",
    "N = 500\n",
    "T = 1.0/800.0\n",
    "x = np.linspace(0.0, N*T,N)\n",
    "y = np.sin(50.0 * 2.0 * np.pi *x) + 0.5 * np.sin(80.0 * 2.0 * np.pi * x)\n",
    "yf = fft(y)\n",
    "xf = np.linspace(0.0, 1.0/(2.0*T), N//2)\n",
    "import matplotlib.pyplot as plt\n",
    "plt.plot(xf, 2.0/N*np.abs(yf[0:N//2]))\n",
    "plt.grid()\n",
    "plt.show()\n"
   ]
  },
  {
   "cell_type": "code",
   "execution_count": null,
   "metadata": {},
   "outputs": [],
   "source": [
    "from scipy.signal import find_peaks\n",
    "from matplotlib import pyplot as plt\n",
    "from scipy.misc import electrocardiogram\n",
    "\n",
    "peaks,_=find_peaks(data,height=0)\n",
    "peaks"
   ]
  },
  {
   "cell_type": "code",
   "execution_count": null,
   "metadata": {},
   "outputs": [],
   "source": [
    "dashes = [1, 1]  # 10 points on, 5 off, 100 on, 5 off\n",
    "\n",
    "fig, ax = plt.subplots()\n",
    "line1, = ax.plot(s, '-.', linewidth=0.9, label='test')\n",
    "line1.set_dashes(dashes)\n",
    "\n",
    "\n",
    "ax.legend(loc='lower right')\n",
    "plt.show()"
   ]
  },
  {
   "cell_type": "code",
   "execution_count": null,
   "metadata": {},
   "outputs": [],
   "source": [
    "plt.plot(s)\n",
    "plt.axis([np.amin(t), np.amax(t), 0.0001 * np.min(s), 1.5 * np.max(s)]) \n",
    "#dynamic adjusment for axis\n",
    "\n",
    "\n",
    "dashes = [10, 5, 100, 5]  # 10 points on, 5 off, 100 on, 5 off\n",
    "\n",
    "line1, = ax.plot(s, '.', linewidth=2)\n",
    "line1.set_dashes(dashes)\n",
    "\n",
    "\n"
   ]
  },
  {
   "cell_type": "code",
   "execution_count": null,
   "metadata": {},
   "outputs": [],
   "source": [
    "plt.plot( s)\n",
    "plt.axis([np.amin(t), np.amax(t), 0.0001 * np.min(s), 1.5 * np.max(s)]) \n",
    "\n",
    "# this is an inset axes over the main axes\n",
    "\n",
    "n, bins, patches = plt.hist(s, 20, density=True, facecolor='g', alpha=1)\n",
    "\n",
    "plt.axes([.65, .6, .2, .2], facecolor='b')\n",
    "n, bins, patches = plt.hist(s, 20, density=True)\n",
    "\n",
    "\n",
    "plt.title('Probability')\n",
    "plt.xticks([])\n",
    "plt.yticks([])\n",
    "plt.show()"
   ]
  },
  {
   "cell_type": "code",
   "execution_count": null,
   "metadata": {},
   "outputs": [],
   "source": []
  },
  {
   "cell_type": "code",
   "execution_count": null,
   "metadata": {
    "scrolled": true
   },
   "outputs": [],
   "source": [
    "n, bins, patches = plt.hist(s, 20, density=True, facecolor='g', alpha=1)\n",
    "\n",
    "plt.xlabel('time')\n",
    "plt.ylabel('amp')\n",
    "plt.title('Histogram of IQ')\n",
    "\n",
    "plt.grid(True)\n",
    "plt.show()"
   ]
  },
  {
   "cell_type": "code",
   "execution_count": null,
   "metadata": {},
   "outputs": [],
   "source": [
    "https://matplotlib.org/3.1.0/api/_as_gen/matplotlib.pyplot.hist.html"
   ]
  },
  {
   "cell_type": "code",
   "execution_count": null,
   "metadata": {},
   "outputs": [],
   "source": []
  },
  {
   "cell_type": "code",
   "execution_count": null,
   "metadata": {
    "scrolled": true
   },
   "outputs": [],
   "source": [
    "sig= pd.read_csv(\"../waveform/waveforms_ch0_run454.txt\", header = None)"
   ]
  },
  {
   "cell_type": "code",
   "execution_count": null,
   "metadata": {
    "scrolled": true
   },
   "outputs": [],
   "source": [
    "for x in range(0, 20):\n",
    "    sig=0\n",
    "    data = df.index[x]\n",
    "    df = pd.read_csv(\"../waveform/waveforms_ch0_run454.txt\",\n",
    "                     delim_whitespace=True,\n",
    "                     usecols=[data,])    \n",
    "    sig=df.to_numpy()\n",
    "    s  += (sig-903.4) # baseline and (-1)\n",
    "\n",
    "    plt.plot(s)\n"
   ]
  },
  {
   "cell_type": "code",
   "execution_count": null,
   "metadata": {
    "scrolled": true
   },
   "outputs": [],
   "source": [
    "s= -1*(sig-903.4) # baseline and (-1)\n",
    "\n",
    "a = s * (s >= .008)\n",
    "#t=df.index.to_numpy() #this is not necessary\n",
    "#t\n",
    "#plt.plot(a)\n",
    "plt.hist(a, bins=40)"
   ]
  },
  {
   "cell_type": "code",
   "execution_count": null,
   "metadata": {},
   "outputs": [],
   "source": [
    "n, bins, patches = plt.hist(s, 25, density=True, facecolor='g', alpha=1)\n",
    "\n",
    "plt.xlabel('time')\n",
    "plt.ylabel('amp')\n",
    "plt.title('probabiliyt')\n",
    "\n",
    "plt.grid(True)\n",
    "plt.show()\n"
   ]
  },
  {
   "cell_type": "code",
   "execution_count": null,
   "metadata": {},
   "outputs": [],
   "source": []
  },
  {
   "cell_type": "code",
   "execution_count": null,
   "metadata": {},
   "outputs": [],
   "source": []
  },
  {
   "cell_type": "code",
   "execution_count": null,
   "metadata": {},
   "outputs": [],
   "source": []
  },
  {
   "cell_type": "code",
   "execution_count": null,
   "metadata": {},
   "outputs": [],
   "source": []
  },
  {
   "cell_type": "code",
   "execution_count": null,
   "metadata": {},
   "outputs": [],
   "source": []
  },
  {
   "cell_type": "code",
   "execution_count": null,
   "metadata": {},
   "outputs": [],
   "source": []
  },
  {
   "cell_type": "code",
   "execution_count": null,
   "metadata": {},
   "outputs": [],
   "source": []
  },
  {
   "cell_type": "code",
   "execution_count": null,
   "metadata": {},
   "outputs": [],
   "source": []
  },
  {
   "cell_type": "code",
   "execution_count": null,
   "metadata": {},
   "outputs": [],
   "source": []
  },
  {
   "cell_type": "code",
   "execution_count": null,
   "metadata": {},
   "outputs": [],
   "source": []
  },
  {
   "cell_type": "code",
   "execution_count": null,
   "metadata": {},
   "outputs": [],
   "source": []
  },
  {
   "cell_type": "code",
   "execution_count": null,
   "metadata": {},
   "outputs": [],
   "source": []
  },
  {
   "cell_type": "code",
   "execution_count": null,
   "metadata": {},
   "outputs": [],
   "source": []
  },
  {
   "cell_type": "code",
   "execution_count": null,
   "metadata": {},
   "outputs": [],
   "source": []
  },
  {
   "cell_type": "code",
   "execution_count": null,
   "metadata": {},
   "outputs": [],
   "source": []
  },
  {
   "cell_type": "code",
   "execution_count": null,
   "metadata": {},
   "outputs": [],
   "source": []
  },
  {
   "cell_type": "code",
   "execution_count": null,
   "metadata": {},
   "outputs": [],
   "source": []
  },
  {
   "cell_type": "code",
   "execution_count": null,
   "metadata": {},
   "outputs": [],
   "source": []
  },
  {
   "cell_type": "code",
   "execution_count": null,
   "metadata": {},
   "outputs": [],
   "source": []
  },
  {
   "cell_type": "code",
   "execution_count": null,
   "metadata": {},
   "outputs": [],
   "source": []
  },
  {
   "cell_type": "code",
   "execution_count": null,
   "metadata": {},
   "outputs": [],
   "source": []
  },
  {
   "cell_type": "code",
   "execution_count": null,
   "metadata": {},
   "outputs": [],
   "source": []
  },
  {
   "cell_type": "code",
   "execution_count": null,
   "metadata": {},
   "outputs": [],
   "source": []
  },
  {
   "cell_type": "code",
   "execution_count": null,
   "metadata": {},
   "outputs": [],
   "source": []
  },
  {
   "cell_type": "code",
   "execution_count": null,
   "metadata": {},
   "outputs": [],
   "source": []
  }
 ],
 "metadata": {
  "kernelspec": {
   "display_name": "Python 3",
   "language": "python",
   "name": "python3"
  },
  "language_info": {
   "codemirror_mode": {
    "name": "ipython",
    "version": 3
   },
   "file_extension": ".py",
   "mimetype": "text/x-python",
   "name": "python",
   "nbconvert_exporter": "python",
   "pygments_lexer": "ipython3",
   "version": "3.7.3"
  }
 },
 "nbformat": 4,
 "nbformat_minor": 2
}
