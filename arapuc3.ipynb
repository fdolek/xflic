{
 "cells": [
  {
   "cell_type": "code",
   "execution_count": null,
   "metadata": {
    "slideshow": {
     "slide_type": "-"
    }
   },
   "outputs": [],
   "source": [
    "%matplotlib inline"
   ]
  },
  {
   "cell_type": "markdown",
   "metadata": {},
   "source": [
    "\n",
    "# A simple plot with a custom dashed line\n",
    "\n",
    "\n",
    "A Line object's ``set_dashes`` method allows you to specify dashes with\n",
    "a series of on/off lengths (in points).\n",
    "\n"
   ]
  },
  {
   "cell_type": "code",
   "execution_count": 2,
   "metadata": {},
   "outputs": [],
   "source": [
    "import pandas as pd\n",
    "import matplotlib.pyplot as plt\n",
    "import os\n",
    "import glob\n",
    "from statistics import mean\n",
    "import math\n",
    "from math import log\n",
    "import numpy as np\n",
    "import matplotlib.pyplot as plt\n",
    "\n",
    "\n",
    "from pylab import rcParams\n",
    "rcParams['figure.figsize'] = 10, 10"
   ]
  },
  {
   "cell_type": "code",
   "execution_count": 74,
   "metadata": {},
   "outputs": [],
   "source": [
    "\n",
    "filelist = []\n",
    "filelist = ['~/work/flicanalyzer/waveform/2019-12-13_17-56-38/Cosmic_Vertical_VBias47V_Ch0-2019-12-13_17-56-38.dat']\n",
    "            #'~/work/flicanalyzer/waveform/2019-12-14_18-05-55/Cosmic_Vertical_VBias47V_Ch1-2019-12-14_18-05-55.dat',\n",
    "            #'~/work/flicanalyzer/waveform/2019-12-14_18-05-55/Cosmic_Vertical_VBias47V_Ch2-2019-12-14_18-05-55.dat',\n",
    "            #'~/work/flicanalyzer/waveform/2019-12-14_18-05-55/Cosmic_Vertical_VBias47V_Ch3-2019-12-14_18-05-55.dat',\n",
    "            #'~/work/flicanalyzer/waveform/2019-12-14_18-05-55/Cosmic_Vertical_VBias47V_Ch8-2019-12-14_18-05-55.dat',\n",
    "            #'~/work/flicanalyzer/waveform/2019-12-14_18-05-55/Cosmic_Vertical_VBias47V_Ch9-2019-12-14_18-05-55.dat',\n",
    "            #'~/work/flicanalyzer/waveform/2019-12-14_18-05-55/Cosmic_Vertical_VBias47V_Ch10-2019-12-14_18-05-55.dat',\n",
    "            #'~/work/flicanalyzer/waveform/2019-12-14_18-05-55/Cosmic_Vertical_VBias47V_Ch11-2019-12-14_18-05-55.dat']\n",
    "fil=pd.concat([pd.read_csv(item, names=[item[:-4]]) for item in filelist], axis=1)\n",
    "x = pd.DataFrame(fil).to_numpy()\n",
    "t=fil.index.to_numpy() #this is not necessary\n"
   ]
  },
  {
   "cell_type": "code",
   "execution_count": 76,
   "metadata": {},
   "outputs": [
    {
     "data": {
      "text/plain": [
       "array([[43690],\n",
       "       [43690],\n",
       "       [ 1012],\n",
       "       ...,\n",
       "       [ 1537],\n",
       "       [ 1532],\n",
       "       [ 1537]])"
      ]
     },
     "execution_count": 76,
     "metadata": {},
     "output_type": "execute_result"
    }
   ],
   "source": [
    "x"
   ]
  },
  {
   "cell_type": "code",
   "execution_count": 5,
   "metadata": {
    "scrolled": false
   },
   "outputs": [
    {
     "name": "stdout",
     "output_type": "stream",
     "text": [
      "[[43690 43690  1012 ...  1537  1532  1537]] (1, 165968) 165968\n"
     ]
    }
   ],
   "source": [
    "s1=np.transpose(x)\n",
    "print(s1, s1.shape,s1.size)"
   ]
  },
  {
   "cell_type": "code",
   "execution_count": 6,
   "metadata": {},
   "outputs": [
    {
     "name": "stdout",
     "output_type": "stream",
     "text": [
      "[43690 43690  1012 ...  1537  1532  1537] (165968,) 165968\n"
     ]
    }
   ],
   "source": [
    "s = s1.flatten()\n",
    "print(s, s.shape,s.size)"
   ]
  },
  {
   "cell_type": "code",
   "execution_count": 65,
   "metadata": {
    "scrolled": false
   },
   "outputs": [
    {
     "data": {
      "text/plain": [
       "array([[43690, 43690,  1012, ...,  1535,  1533,  1534],\n",
       "       [43690, 43690,  1012, ...,  1550,  1553,  1547],\n",
       "       [43690, 43690,  1012, ...,  1530,  1519,  1532],\n",
       "       ...,\n",
       "       [43690, 43690,  1012, ...,  1537,  1539,  1539],\n",
       "       [43690, 43690,  1012, ...,  1542,  1529,  1537],\n",
       "       [43690, 43690,  1012, ...,  1537,  1532,  1537]])"
      ]
     },
     "execution_count": 65,
     "metadata": {},
     "output_type": "execute_result"
    }
   ],
   "source": [
    "arr=s.reshape(82,2024)\n",
    "arr\n",
    "arr.shape\n",
    "arr"
   ]
  },
  {
   "cell_type": "code",
   "execution_count": 92,
   "metadata": {
    "scrolled": true
   },
   "outputs": [
    {
     "data": {
      "text/plain": [
       "array([[1537, 1538, 1540, ..., 1535, 1533, 1534],\n",
       "       [1529, 1538, 1531, ..., 1550, 1553, 1547],\n",
       "       [1542, 1535, 1541, ..., 1530, 1519, 1532],\n",
       "       ...,\n",
       "       [1557, 1556, 1555, ..., 1537, 1539, 1539],\n",
       "       [1539, 1537, 1530, ..., 1542, 1529, 1537],\n",
       "       [1538, 1532, 1534, ..., 1537, 1532, 1537]])"
      ]
     },
     "execution_count": 92,
     "metadata": {},
     "output_type": "execute_result"
    }
   ],
   "source": [
    "test=np.delete(arr, np.s_[0:24], axis=1) \n",
    "\n",
    "test.shape\n",
    "test"
   ]
  },
  {
   "cell_type": "markdown",
   "metadata": {},
   "source": []
  },
  {
   "cell_type": "code",
   "execution_count": 93,
   "metadata": {},
   "outputs": [
    {
     "data": {
      "image/png": "[encoded data removed]",
      "text/plain": [
       "<Figure size 720x720 with 1 Axes>"
      ]
     },
     "metadata": {
      "needs_background": "light"
     },
     "output_type": "display_data"
    }
   ],
   "source": [
    "plt.plot(test[2])\n",
    "#plt.axis([100, 10000, 0, 10000])\n",
    "#plt.xlim(0, 3)\n",
    "#plt.yscale('log')\n",
    "#plt.xlim(2017, 2025)\n",
    "\n",
    "plt.show()"
   ]
  },
  {
   "cell_type": "code",
   "execution_count": 11,
   "metadata": {},
   "outputs": [
    {
     "name": "stdout",
     "output_type": "stream",
     "text": [
      "[[43690 43690  1012 ...  1539  1535  1533]\n",
      " [43690 43690  1012 ...  1548  1550  1553]\n",
      " [43690 43690  1012 ...  1529  1530  1519]\n",
      " ...\n",
      " [43690 43690  1012 ...  1539  1537  1539]\n",
      " [43690 43690  1012 ...  1533  1542  1529]\n",
      " [43690 43690  1012 ...  1537  1537  1532]]\n",
      "[1534 1547 1532 1547 1532 1536 1536 1534 1556 1536 1538 1530 1533 1529\n",
      " 1534 1542 1533 1531 1533 1534 1533 1522 1534 1538 1538 1529 1536 1533\n",
      " 1538 1534 1523 1526 1535 1532 1527 1535 1537 1523 1545 1539 1552 1541\n",
      " 1532 1512 1516 1535 1541 1540 1533 1544 1537 1535 1531 1536 1540 1577\n",
      " 1540 1534 1536 1538 1533 1532 1536 1527 1531 1540 1535 1526 1522 1535\n",
      " 1553 1544 1522 1507 1526 1532 1523 1532 1531 1539 1537 1537]\n"
     ]
    }
   ],
   "source": [
    "X, y = arr[:, :-1], arr[:, -1]\n",
    "print(X)\n",
    "print(y)"
   ]
  },
  {
   "cell_type": "code",
   "execution_count": 21,
   "metadata": {},
   "outputs": [
    {
     "name": "stdout",
     "output_type": "stream",
     "text": [
      "[array([43690, 43690,  1012, ...,  1535,  1533,  1534]), array([43690, 43690,  1012, ...,  1550,  1553,  1547]), array([43690, 43690,  1012, ...,  1530,  1519,  1532]), array([43690, 43690,  1012, ...,  1548,  1545,  1547]), array([43690, 43690,  1012, ...,  1530,  1534,  1532]), array([43690, 43690,  1012, ...,  1535,  1544,  1536]), array([43690, 43690,  1012, ...,  1537,  1537,  1536]), array([43690, 43690,  1012, ...,  1540,  1530,  1534]), array([43690, 43690,  1012, ...,  1557,  1556,  1556]), array([43690, 43690,  1012, ...,  1537,  1534,  1536]), array([43690, 43690,  1012, ...,  1531,  1539,  1538]), array([43690, 43690,  1012, ...,  1532,  1525,  1530]), array([43690, 43690,  1012, ...,  1533,  1538,  1533]), array([43690, 43690,  1012, ...,  1536,  1533,  1529]), array([43690, 43690,  1012, ...,  1530,  1531,  1534]), array([43690, 43690,  1012, ...,  1533,  1536,  1542]), array([43690, 43690,  1012, ...,  1541,  1541,  1533]), array([43690, 43690,  1012, ...,  1540,  1538,  1531]), array([43690, 43690,  1012, ...,  1541,  1532,  1533]), array([43690, 43690,  1012, ...,  1534,  1528,  1534]), array([43690, 43690,  1012, ...,  1536,  1535,  1533]), array([43690, 43690,  1012, ...,  1518,  1528,  1522]), array([43690, 43690,  1012, ...,  1534,  1538,  1534]), array([43690, 43690,  1012, ...,  1537,  1537,  1538]), array([43690, 43690,  1012, ...,  1547,  1541,  1538]), array([43690, 43690,  1012, ...,  1533,  1538,  1529]), array([43690, 43690,  1012, ...,  1534,  1533,  1536]), array([43690, 43690,  1012, ...,  1529,  1530,  1533]), array([43690, 43690,  1012, ...,  1541,  1538,  1538]), array([43690, 43690,  1012, ...,  1533,  1528,  1534]), array([43690, 43690,  1012, ...,  1528,  1534,  1523]), array([43690, 43690,  1012, ...,  1525,  1530,  1526]), array([43690, 43690,  1012, ...,  1533,  1534,  1535]), array([43690, 43690,  1012, ...,  1535,  1530,  1532]), array([43690, 43690,  1012, ...,  1533,  1535,  1527]), array([43690, 43690,  1012, ...,  1529,  1538,  1535]), array([43690, 43690,  1012, ...,  1532,  1532,  1537]), array([43690, 43690,  1012, ...,  1521,  1527,  1523]), array([43690, 43690,  1012, ...,  1549,  1539,  1545]), array([43690, 43690,  1012, ...,  1542,  1533,  1539]), array([43690, 43690,  1012, ...,  1549,  1550,  1552]), array([43690, 43690,  1012, ...,  1538,  1535,  1541]), array([43690, 43690,  1012, ...,  1536,  1530,  1532]), array([43690, 43690,  1012, ...,  1515,  1518,  1512]), array([43690, 43690,  1012, ...,  1517,  1524,  1516]), array([43690, 43690,  1012, ...,  1538,  1533,  1535]), array([43690, 43690,  1012, ...,  1532,  1543,  1541]), array([43690, 43690,  1012, ...,  1537,  1535,  1540]), array([43690, 43690,  1012, ...,  1531,  1535,  1533]), array([43690, 43690,  1012, ...,  1539,  1541,  1544]), array([43690, 43690,  1012, ...,  1534,  1534,  1537]), array([43690, 43690,  1012, ...,  1535,  1533,  1535]), array([43690, 43690,  1012, ...,  1531,  1525,  1531]), array([43690, 43690,  1012, ...,  1537,  1536,  1536]), array([43690, 43690,  1012, ...,  1539,  1539,  1540]), array([43690, 43690,  1012, ...,  1577,  1571,  1577]), array([43690, 43690,  1012, ...,  1537,  1545,  1540]), array([43690, 43690,  1012, ...,  1538,  1541,  1534]), array([43690, 43690,  1012, ...,  1535,  1537,  1536]), array([43690, 43690,  1012, ...,  1532,  1531,  1538]), array([43690, 43690,  1012, ...,  1543,  1538,  1533]), array([43690, 43690,  1012, ...,  1536,  1538,  1532]), array([43690, 43690,  1012, ...,  1538,  1538,  1536]), array([43690, 43690,  1012, ...,  1533,  1532,  1527]), array([43690, 43690,  1012, ...,  1539,  1529,  1531]), array([43690, 43690,  1012, ...,  1533,  1525,  1540]), array([43690, 43690,  1012, ...,  1533,  1529,  1535]), array([43690, 43690,  1012, ...,  1533,  1529,  1526]), array([43690, 43690,  1012, ...,  1530,  1535,  1522]), array([43690, 43690,  1012, ...,  1533,  1538,  1535]), array([43690, 43690,  1012, ...,  1566,  1558,  1553]), array([43690, 43690,  1012, ...,  1543,  1538,  1544]), array([43690, 43690,  1012, ...,  1524,  1523,  1522]), array([43690, 43690,  1012, ...,  1512,  1511,  1507]), array([43690, 43690,  1012, ...,  1531,  1525,  1526]), array([43690, 43690,  1012, ...,  1534,  1535,  1532]), array([43690, 43690,  1012, ...,  1527,  1525,  1523]), array([43690, 43690,  1012, ...,  1533,  1536,  1532]), array([43690, 43690,  1012, ...,  1533,  1536,  1531]), array([43690, 43690,  1012, ...,  1537,  1539,  1539]), array([43690, 43690,  1012, ...,  1542,  1529,  1537]), array([43690, 43690,  1012, ...,  1537,  1532,  1537])]\n"
     ]
    }
   ],
   "source": [
    "div=s.size/2024\n",
    "b=np.hsplit(s,div)\n",
    "print(b)\n",
    "#print(b.type)\n",
    "\n"
   ]
  },
  {
   "cell_type": "code",
   "execution_count": 50,
   "metadata": {},
   "outputs": [
    {
     "data": {
      "image/png": "[encoded data removed]",
      "text/plain": [
       "<Figure size 720x720 with 1 Axes>"
      ]
     },
     "metadata": {
      "needs_background": "light"
     },
     "output_type": "display_data"
    }
   ],
   "source": [
    "plt.plot(b[1])\n",
    "#plt.axis([100, 10000, 0, 10000])\n",
    "#plt.xlim(0, 3)\n",
    "#plt.yscale('log')\n",
    "#plt.xlim(2017, 2025)\n",
    "\n",
    "plt.show()\n"
   ]
  },
  {
   "cell_type": "code",
   "execution_count": 53,
   "metadata": {},
   "outputs": [
    {
     "name": "stdout",
     "output_type": "stream",
     "text": [
      "[[ -1.48170593 -13.32383973  -7.78244897  11.66556573  -6.75498316]]\n"
     ]
    },
    {
     "data": {
      "text/plain": [
       "array([11.66556573])"
      ]
     },
     "execution_count": 53,
     "metadata": {},
     "output_type": "execute_result"
    }
   ],
   "source": [
    "mask\n",
    "x = 10*np.random.randn(1,5)\n",
    "low = 5\n",
    "high = 27\n",
    "print(x)\n",
    "x[0,np.logical_and(x[0,:]>low,x[0,:]<high)]"
   ]
  },
  {
   "cell_type": "code",
   "execution_count": null,
   "metadata": {
    "scrolled": true
   },
   "outputs": [],
   "source": []
  },
  {
   "cell_type": "code",
   "execution_count": 35,
   "metadata": {},
   "outputs": [
    {
     "name": "stdout",
     "output_type": "stream",
     "text": [
      "9\n",
      "(9,)\n",
      "[array([1, 2, 3]), array([4, 5, 6]), array([7, 8, 9])]\n"
     ]
    }
   ],
   "source": [
    "\n",
    "import numpy as np\n",
    "\n",
    "x=np.array([1,2,3,4,5,6,7,8,9])\n",
    "print(x.size)\n",
    "print(x.shape)\n",
    "y=np.split(x, 3)\n",
    "\n",
    "print(y)\n"
   ]
  },
  {
   "cell_type": "code",
   "execution_count": 54,
   "metadata": {},
   "outputs": [
    {
     "name": "stdout",
     "output_type": "stream",
     "text": [
      "[ 1  2  3  4  5  6  7  8  9 10 11 12]\n",
      "[ 2  4  6  7  8  9 10 11 12]\n"
     ]
    },
    {
     "ename": "ValueError",
     "evalue": "cannot delete array elements",
     "output_type": "error",
     "traceback": [
      "\u001b[0;31m---------------------------------------------------------------------------\u001b[0m",
      "\u001b[0;31mValueError\u001b[0m                                Traceback (most recent call last)",
      "\u001b[0;32m<ipython-input-54-cac3936bbbba>\u001b[0m in \u001b[0;36m<module>\u001b[0;34m\u001b[0m\n\u001b[1;32m      5\u001b[0m \u001b[0mresult\u001b[0m \u001b[0;34m=\u001b[0m \u001b[0marr\u001b[0m\u001b[0;34m[\u001b[0m\u001b[0mmask\u001b[0m\u001b[0;34m,\u001b[0m\u001b[0;34m...\u001b[0m\u001b[0;34m]\u001b[0m\u001b[0;34m\u001b[0m\u001b[0;34m\u001b[0m\u001b[0m\n\u001b[1;32m      6\u001b[0m \u001b[0mprint\u001b[0m\u001b[0;34m(\u001b[0m\u001b[0mresult\u001b[0m\u001b[0;34m)\u001b[0m\u001b[0;34m\u001b[0m\u001b[0;34m\u001b[0m\u001b[0m\n\u001b[0;32m----> 7\u001b[0;31m \u001b[0;32mdel\u001b[0m \u001b[0mresult\u001b[0m\u001b[0;34m[\u001b[0m\u001b[0;34m:\u001b[0m\u001b[0;36m5\u001b[0m\u001b[0;34m]\u001b[0m\u001b[0;34m\u001b[0m\u001b[0;34m\u001b[0m\u001b[0m\n\u001b[0m",
      "\u001b[0;31mValueError\u001b[0m: cannot delete array elements"
     ]
    }
   ],
   "source": [
    "arr = np.arange(12) + 1\n",
    "print(arr)\n",
    "mask = np.ones(len(arr), dtype=bool)\n",
    "mask[[0,2,4]] = False\n",
    "result = arr[mask,...]\n",
    "elementData = Arrays.copyOfRange( elementData, n, elementData.length ); "
   ]
  },
  {
   "cell_type": "code",
   "execution_count": null,
   "metadata": {},
   "outputs": [],
   "source": []
  },
  {
   "cell_type": "code",
   "execution_count": null,
   "metadata": {},
   "outputs": [],
   "source": []
  },
  {
   "cell_type": "code",
   "execution_count": 4,
   "metadata": {},
   "outputs": [
    {
     "data": {
      "image/png": "[encoded data removed]",
      "text/plain": [
       "<Figure size 720x720 with 1 Axes>"
      ]
     },
     "metadata": {
      "needs_background": "light"
     },
     "output_type": "display_data"
    }
   ],
   "source": [
    "plt.plot(a)\n",
    "#plt.axis([100, 10000, 0, 10000])\n",
    "plt.xlim(0, 3)\n",
    "#plt.yscale('log')\n",
    "plt.xlim(2017, 2025)\n",
    "\n",
    "plt.show()"
   ]
  },
  {
   "cell_type": "code",
   "execution_count": null,
   "metadata": {},
   "outputs": [],
   "source": []
  },
  {
   "cell_type": "code",
   "execution_count": null,
   "metadata": {},
   "outputs": [],
   "source": []
  }
 ],
 "metadata": {
  "kernelspec": {
   "display_name": "Python 3",
   "language": "python",
   "name": "python3"
  },
  "language_info": {
   "codemirror_mode": {
    "name": "ipython",
    "version": 3
   },
   "file_extension": ".py",
   "mimetype": "text/x-python",
   "name": "python",
   "nbconvert_exporter": "python",
   "pygments_lexer": "ipython3",
   "version": "3.7.3"
  }
 },
 "nbformat": 4,
 "nbformat_minor": 1
}
